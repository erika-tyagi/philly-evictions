{
 "cells": [
  {
   "cell_type": "markdown",
   "metadata": {
    "lines_to_next_cell": 0
   },
   "source": [
    "# Model Evaluation"
   ]
  },
  {
   "cell_type": "code",
   "execution_count": null,
   "metadata": {},
   "outputs": [],
   "source": [
    "# Imports + read in files\n",
    "from pipeline import find_best_model, analyze_best_model\n",
    "import pandas as pd\n",
    "import matplotlib.pyplot as plt\n",
    "\n",
    "reg_df = pd.read_csv('results/evaluation_results/reg-small-grid_ay.csv')\n",
    "clf_df = pd.read_csv('results/evaluation_results/clf-small-grid_ay.csv')"
   ]
  },
  {
   "cell_type": "code",
   "execution_count": null,
   "metadata": {},
   "outputs": [],
   "source": [
    "#Look at highest precision across models\n",
    "clf_14 = clf_df[(clf_df['split']==6) & (clf_df['threshold']==14)]\n",
    "clf_14.style.apply(\n",
    "    find_best_model.highlight_max, color='darkorange', subset=['precision','f1','auc','recall',\n",
    "                                                              'auc','accuracy'])\n"
   ]
  },
  {
   "cell_type": "code",
   "execution_count": null,
   "metadata": {},
   "outputs": [],
   "source": [
    "#Create df with the max values for each model at threshold 14%, for each split\n",
    "clf_max_df = clf_df[clf_df['threshold']==14].drop(['parameters'],axis=1)\n",
    "clf_max_df['max_f1'] = clf_max_df.groupby(['classifier','split','threshold'])['f1'].transform('max')\n",
    "clf_max_df['max_precision'] = clf_max_df.groupby(['classifier','split','threshold'])['precision'].transform('max')\n",
    "clf_max_df['max_auc'] = clf_max_df.groupby(['classifier','split','threshold'])['auc'].transform('max')\n",
    "clf_max_df['max_recall'] = clf_max_df.groupby(['classifier','split','threshold'])['recall'].transform('max')\n",
    "clf_max_df['max_accuracy'] = clf_max_df.groupby(['classifier','split','threshold'])['accuracy'].transform('max')\n",
    "clf_max_df.drop(['accuracy','auc','f1','precision','recall'],axis=1,inplace=True)\n",
    "clf_max_df = clf_max_df.drop_duplicates()"
   ]
  },
  {
   "cell_type": "code",
   "execution_count": null,
   "metadata": {},
   "outputs": [],
   "source": [
    "fig, ax = plt.subplots()\n",
    "fig.set_figheight(10)\n",
    "fig.set_figwidth(20)\n",
    "\n",
    "for key, grp in clf_max_df.groupby(['classifier']):\n",
    "    ax = grp.plot(ax=ax, kind='line', x='split', y='max_precision', label=key)\n",
    "\n",
    "plt.Axes.set_xticklabels(ax, [2010, 2011, 2012, 2013, 2014, 2015])\n",
    "plt.gca().set_ylim([0,1])\n",
    "plt.title('Best precision by split and model type',fontsize=18)\n",
    "plt.xlabel('Year of eviction predicted',fontsize=14)\n",
    "plt.ylabel('Precision Value at 14%',fontsize=14)"
   ]
  },
  {
   "cell_type": "code",
   "execution_count": null,
   "metadata": {},
   "outputs": [],
   "source": [
    "# Create df to look at highest performing model within gradient boosting\n",
    "\n",
    "clf_gb = clf_df[clf_df['classifier']=='GB']\n",
    "clf_gb = clf_gb[clf_gb['threshold']==14]\n",
    "\n",
    "fig, ax = plt.subplots()\n",
    "fig.set_figheight(10)\n",
    "fig.set_figwidth(20)\n",
    "\n",
    "for key, grp in clf_gb.groupby(['parameters']):\n",
    "    ax = grp.plot(ax=ax, kind='line', x='split', y='precision', label=key)\n",
    "\n",
    "plt.Axes.set_xticklabels(ax, [2010, 2011, 2012, 2013, 2014, 2015])\n",
    "plt.gca().set_ylim([0,1])\n",
    "plt.title('Precision by split for GB models',fontsize=18)\n",
    "plt.xlabel('Year of eviction predicted',fontsize=14)\n",
    "plt.ylabel('Precision Value at 14%',fontsize=14)"
   ]
  },
  {
   "cell_type": "markdown",
   "metadata": {},
   "source": [
    "## Regression output analysis"
   ]
  },
  {
   "cell_type": "code",
   "execution_count": null,
   "metadata": {},
   "outputs": [],
   "source": [
    "reg_16 = reg_df[reg_df['split']==6]\n",
    "reg_16.style.apply(\n",
    "    find_best_model.highlight_min, color='darkorange', subset=['root_mean_squared_error',\n",
    "                                                              'mean_squared_error'])\n",
    "#reg_16.style.apply(\n",
    "    #find_best_model.highlight_max, color='darkorange', subset=['r2',\n",
    "                                                         #     'explained_variance'])\n"
   ]
  },
  {
   "cell_type": "code",
   "execution_count": null,
   "metadata": {},
   "outputs": [],
   "source": [
    "#Create df with the max values for each model for each split\n",
    "reg_max_df = reg_df.drop(['parameters'],axis=1)\n",
    "reg_max_df['max_r2'] = reg_max_df.groupby(['classifier','split'])['r2'].transform('max')\n",
    "reg_max_df['max_explained_var'] = reg_max_df.groupby(['classifier','split'])['explained_variance'].transform('max')\n",
    "reg_max_df['min_rmse'] = reg_max_df.groupby(['classifier','split'])['root_mean_squared_error'].transform('min')\n",
    "reg_max_df['min_mean_squared_error'] = reg_max_df.groupby(['classifier','split'])['mean_squared_error'].transform('min')\n",
    "reg_max_df.drop(['explained_variance','r2','mean_squared_error','root_mean_squared_error'],axis=1,inplace=True)\n",
    "reg_max_df = reg_max_df.drop_duplicates()"
   ]
  },
  {
   "cell_type": "code",
   "execution_count": null,
   "metadata": {},
   "outputs": [],
   "source": [
    "# Plot best RMSE over time for each model\n",
    "fig, ax = plt.subplots()\n",
    "fig.set_figheight(10)\n",
    "fig.set_figwidth(20)\n",
    "\n",
    "for key, grp in reg_max_df.groupby(['classifier']):\n",
    "    ax = grp.plot(ax=ax, kind='line', x='split', y='min_rmse', label=key)\n",
    "\n",
    "plt.Axes.set_xticklabels(ax, [2010, 2011, 2012, 2013, 2014, 2015])\n",
    "plt.title('Best (lowest) RMSE by split and model type',fontsize=18)\n",
    "plt.xlabel('Year of eviction predicted',fontsize=14)\n",
    "plt.ylabel('RMSE',fontsize=14)"
   ]
  },
  {
   "cell_type": "markdown",
   "metadata": {},
   "source": [
    "# Interpretation of Best Models\n",
    "Our baseline is a Logistic Regression classifier with a single feature\n",
    "(evictions the previous year) and the default parameters.\n",
    "\n",
    "Our best classifier is a Gradient Boosting with the following parameters:\n",
    "'learning_rate': 0.05, 'max_depth': 5, 'n_estimators': 1000, 'subsample': 0.5.\n",
    "Our best regressor is a Decision Tree with the following parameters:\n",
    "'max_depth': 50, 'max_features': None, 'min_samples_split': 10.\n",
    "\n",
    "This notebook produces additional deliverables upon selecting these models.\n",
    "This includes the following:\n",
    "\n",
    "For the baseline classifier:\n",
    "- A \"stump\" one-level decision tree ('stump.png')``\n",
    "- The list of the top 14% of selected blocks ('baseline_selected_blocks.csv')\n",
    "- The precision-recall curves ('baseline_pr_curve.png')\n",
    "\n",
    "For the best classifier:\n",
    "- The list of the top 14% selected blocks ('clf_selected_blocks.csv')\n",
    "- The list of feature importance ('clf_feature_importance.csv')\n",
    "- The precision-recall curves ('clf_pr_curve.png')\n",
    "\n",
    "For the best regressor:\n",
    "- The list of the top 14% selected blocks ('reg_selected_blocks.csv')\n",
    "- The list of feature importance ('reg_feature_importance.csv')\n",
    "\n",
    "And to compare the best classifier and best regressor:\n",
    "- The list of the top 14% blocks based on actual evictions, and the predictions\n",
    "  yielded from the best classifier and best regressor for these blocks\n",
    "  ('clf_reg_comparison.csv')\n",
    "\n",
    "## Environment Setup"
   ]
  },
  {
   "cell_type": "code",
   "execution_count": null,
   "metadata": {},
   "outputs": [],
   "source": [
    "from os import path\n",
    "from IPython.display import Image\n",
    "import pipeline\n",
    "from pipeline import clean\n",
    "\n",
    "pd.set_option('display.max_columns', None)\n",
    "pd.set_option('display.max_rows', None)\n",
    "\n",
    "import warnings\n",
    "warnings.filterwarnings('ignore')"
   ]
  },
  {
   "cell_type": "markdown",
   "metadata": {},
   "source": [
    "## Pipeline Setup"
   ]
  },
  {
   "cell_type": "code",
   "execution_count": null,
   "metadata": {},
   "outputs": [],
   "source": [
    "df = pd.read_csv('data/final_merged_df.csv')\n",
    "splits = pipeline.split_all_years(df, colname='year_evictions')\n",
    "cleaned_splits = [pipeline.clean_split(split) for split in splits]\n",
    "labeled_splits = [pipeline.label(split, lower_bound=15, drop_column=True)\n",
    "                  for split in cleaned_splits]\n",
    "\n",
    "test_year = 2016\n",
    "splits_dict = {2011:0, 2012:1, 2013:2, 2014:3, 2015: 4, 2016: 5}\n",
    "train_df, test_df = labeled_splits[splits_dict[test_year]]"
   ]
  },
  {
   "cell_type": "markdown",
   "metadata": {},
   "source": [
    "## Baseline Classifier\n",
    "Logistic Regression classifier with a single feature (evictions the previous year) and the default parameters."
   ]
  },
  {
   "cell_type": "code",
   "execution_count": null,
   "metadata": {},
   "outputs": [],
   "source": [
    "params = {}\n",
    "baseline_model, baseline_scores = pipeline.run_one_clf(\n",
    "    train_df, test_df, 'LB', params, col_blacklist=['GEOID', 'year_evictions'])"
   ]
  },
  {
   "cell_type": "markdown",
   "metadata": {},
   "source": [
    "#### \"Stump\" Decision Tree"
   ]
  },
  {
   "cell_type": "code",
   "execution_count": null,
   "metadata": {},
   "outputs": [],
   "source": [
    "params = {'max_depth': 1}\n",
    "dtree, dtree_scores = pipeline.run_one_clf(\n",
    "    train_df, test_df, 'DT', params, col_blacklist=['GEOID', 'year_evictions'])\n",
    "analyze_best_model.plot_tree(dtree, test_df, 'stump.png', test_year )\n",
    "Image(filename=path.join('results', str(test_year), 'stump.png'))"
   ]
  },
  {
   "cell_type": "markdown",
   "metadata": {},
   "source": [
    "#### Selected Blocks"
   ]
  },
  {
   "cell_type": "code",
   "execution_count": null,
   "metadata": {},
   "outputs": [],
   "source": [
    "selected_blocks = analyze_best_model.select_k_blocks(baseline_scores, .14 , ['score'], ['GEOID'])\n",
    "selected_blocks.to_csv(path.join('results', str(test_year), 'baseline_selected_blocks.csv'), index=False)\n",
    "selected_blocks.head(10)"
   ]
  },
  {
   "cell_type": "markdown",
   "metadata": {},
   "source": [
    "#### Precision-Recall Curves"
   ]
  },
  {
   "cell_type": "code",
   "execution_count": null,
   "metadata": {},
   "outputs": [],
   "source": [
    "pipeline.plot_precision_recall_n(\n",
    "    baseline_scores, .14, 'Precision-Recall: Baseline Classifier', 'baseline_pr_curve.png', test_year)"
   ]
  },
  {
   "cell_type": "markdown",
   "metadata": {},
   "source": [
    "## Best Classifier\n",
    "Gradient Boosting with the following parameters: 'learning_rate': 0.05, 'max_depth': 5, 'n_estimators': 1000, 'subsample': 0.5."
   ]
  },
  {
   "cell_type": "code",
   "execution_count": null,
   "metadata": {},
   "outputs": [],
   "source": [
    "params = {'learning_rate': 0.05, 'max_depth': 5, 'n_estimators': 1000, 'subsample': 0.5}\n",
    "best_clf, clf_scores = pipeline.run_one_clf(\n",
    "    train_df, test_df, 'GB', params, col_blacklist=['GEOID', 'year_evictions'])"
   ]
  },
  {
   "cell_type": "markdown",
   "metadata": {},
   "source": [
    "#### Selected Blocks"
   ]
  },
  {
   "cell_type": "code",
   "execution_count": null,
   "metadata": {},
   "outputs": [],
   "source": [
    "selected_blocks = analyze_best_model.select_k_blocks(clf_scores, .14 , ['score'], ['GEOID'])\n",
    "selected_blocks.to_csv(path.join('results', str(test_year), 'clf_selected_blocks.csv'), index=False)\n",
    "selected_blocks.head(10)"
   ]
  },
  {
   "cell_type": "markdown",
   "metadata": {},
   "source": [
    "#### Precision-Recall Curves"
   ]
  },
  {
   "cell_type": "code",
   "execution_count": null,
   "metadata": {},
   "outputs": [],
   "source": [
    "pipeline.plot_precision_recall_n(\n",
    "    clf_scores, .14, 'Precision-Recall: Best Classifier', 'clf_pr_curve.png', test_year)"
   ]
  },
  {
   "cell_type": "markdown",
   "metadata": {},
   "source": [
    "#### Feature Importance"
   ]
  },
  {
   "cell_type": "code",
   "execution_count": null,
   "metadata": {},
   "outputs": [],
   "source": [
    "importance = analyze_best_model.feature_importance(best_clf, test_df.columns)\n",
    "importance.to_csv(path.join('results', str(test_year), 'clf_feature_importance.csv'), index=False)\n",
    "importance.head(10).round(2)"
   ]
  },
  {
   "cell_type": "markdown",
   "metadata": {},
   "source": [
    "## Best Regressor\n",
    "Decision Tree with the following parameters: 'max_depth': 50, 'max_features':\n",
    "None, 'min_samples_split': 10."
   ]
  },
  {
   "cell_type": "code",
   "execution_count": null,
   "metadata": {},
   "outputs": [],
   "source": [
    "train_df, test_df = cleaned_splits[splits_dict[test_year]]\n",
    "params = {'max_depth': 50, 'max_features': None, 'min_samples_split': 10}\n",
    "best_reg, reg_scores = pipeline.run_one_reg(\n",
    "    train_df, test_df, 'DTR', params, col_blacklist=['GEOID', 'year_evictions'])"
   ]
  },
  {
   "cell_type": "markdown",
   "metadata": {},
   "source": [
    "#### Selected Blocks"
   ]
  },
  {
   "cell_type": "code",
   "execution_count": null,
   "metadata": {},
   "outputs": [],
   "source": [
    "selected_blocks = analyze_best_model.select_k_blocks(reg_scores, .14 , ['pred_evictions'], ['GEOID'])\n",
    "selected_blocks.to_csv(path.join('results', str(test_year), 'reg_selected_blocks_clf.csv'), index=False)\n",
    "selected_blocks.head(10)"
   ]
  },
  {
   "cell_type": "markdown",
   "metadata": {},
   "source": [
    "#### Feature Importance"
   ]
  },
  {
   "cell_type": "code",
   "execution_count": null,
   "metadata": {},
   "outputs": [],
   "source": [
    "importance = analyze_best_model.feature_importance(best_reg, test_df.columns)\n",
    "importance.to_csv(path.join('results', str(test_year), 'reg_feature_importance.csv'), index=False)\n",
    "importance.head(10).round(2)"
   ]
  },
  {
   "cell_type": "markdown",
   "metadata": {},
   "source": [
    "## Comparing Best Classifier and Best Regressor"
   ]
  },
  {
   "cell_type": "code",
   "execution_count": null,
   "metadata": {},
   "outputs": [],
   "source": [
    "comparison = analyze_best_model.clf_reg_comparison(\n",
    "    best_clf, clf_scores, best_reg, reg_scores, test_df, .14)\n",
    "comparison.to_csv(path.join('results', str(test_year), 'clf_reg_comparison.csv'), index=False)\n",
    "comparison.head(10).round(2)"
   ]
  },
  {
   "cell_type": "markdown",
   "metadata": {
    "lines_to_next_cell": 0
   },
   "source": [
    "# Bias and Fairness\n",
    "## Setup"
   ]
  },
  {
   "cell_type": "code",
   "execution_count": null,
   "metadata": {},
   "outputs": [],
   "source": [
    "import numpy as np\n",
    "from pipeline import BiasCop\n",
    "\n",
    "df = pd.read_csv('data/final_merged_df.csv')\n",
    "\n",
    "splits = pipeline.split_last_year(df, colname='year_evictions')\n",
    "cleaned_splits = [pipeline.clean_split(split) for split in splits]\n",
    "\n",
    "labeled_splits = [pipeline.label(split, lower_bound=14, drop_column=False)\n",
    "                  for split in cleaned_splits]\n",
    "\n",
    "train_df, test_df = labeled_splits[-1]"
   ]
  },
  {
   "cell_type": "markdown",
   "metadata": {
    "lines_to_next_cell": 0
   },
   "source": [
    "## Classifier Model"
   ]
  },
  {
   "cell_type": "code",
   "execution_count": null,
   "metadata": {
    "lines_to_next_cell": 0
   },
   "outputs": [],
   "source": [
    "params = {'learning_rate': 0.05, 'max_depth': 5, 'n_estimators': 1000, 'subsample': 0.5}\n",
    "_, clf_pred_df = pipeline.run_one_clf(\n",
    "    train_df,\n",
    "    test_df,\n",
    "    'GB',\n",
    "    params,\n",
    "    col_blacklist=['GEOID', 'year_evictions', 'evictions']\n",
    ")\n",
    "\n",
    "clf_cop = BiasCop(clf_pred_df)\n",
    "clf_cop.xtabs()"
   ]
  },
  {
   "cell_type": "code",
   "execution_count": null,
   "metadata": {
    "lines_to_next_cell": 0
   },
   "outputs": [],
   "source": [
    "clf_cop.plot_group_metric('fnr')"
   ]
  },
  {
   "cell_type": "code",
   "execution_count": null,
   "metadata": {
    "lines_to_next_cell": 0
   },
   "outputs": [],
   "source": [
    "clf_cop.plot_disparity('fnr_disparity')"
   ]
  },
  {
   "cell_type": "code",
   "execution_count": null,
   "metadata": {},
   "outputs": [],
   "source": [
    "clf_cop.plot_fairness('for')"
   ]
  },
  {
   "cell_type": "markdown",
   "metadata": {
    "lines_to_next_cell": 0
   },
   "source": [
    "## Regression Model"
   ]
  },
  {
   "cell_type": "code",
   "execution_count": null,
   "metadata": {
    "lines_to_next_cell": 0
   },
   "outputs": [],
   "source": [
    "params = {'max_depth': 50, 'max_features': None, 'min_samples_split': 10}\n",
    "_, reg_pred_df = pipeline.run_one_reg(\n",
    "    train_df,\n",
    "    test_df,\n",
    "    'DTR',\n",
    "    params,\n",
    "    label_col='evictions',\n",
    "    col_blacklist=['GEOID', 'year_evictions', 'label']\n",
    ")\n",
    "\n",
    "# Have to turn our predicted scores into a binary label\n",
    "reg_pred_df = pipeline.label_df(\n",
    "    reg_pred_df,\n",
    "    14,\n",
    "    label_col='pred_label',\n",
    "    evictions_col='pred_evictions'\n",
    ")\n",
    "\n",
    "reg_cop = BiasCop(reg_pred_df, score_col='pred_label')\n",
    "reg_cop.xtabs()"
   ]
  },
  {
   "cell_type": "code",
   "execution_count": null,
   "metadata": {
    "lines_to_next_cell": 0
   },
   "outputs": [],
   "source": [
    "reg_cop.plot_group_metric('fnr')"
   ]
  },
  {
   "cell_type": "code",
   "execution_count": null,
   "metadata": {
    "lines_to_next_cell": 0
   },
   "outputs": [],
   "source": [
    "reg_cop.plot_disparity('fnr_disparity')"
   ]
  },
  {
   "cell_type": "code",
   "execution_count": null,
   "metadata": {
    "lines_to_next_cell": 0
   },
   "outputs": [],
   "source": [
    "reg_cop.plot_fairness('fnr')"
   ]
  },
  {
   "cell_type": "code",
   "execution_count": null,
   "metadata": {},
   "outputs": [],
   "source": [
    "reg_cop.plot_fairness('for')"
   ]
  }
 ],
 "metadata": {
  "kernelspec": {
   "display_name": "Python 3",
   "language": "python",
   "name": "python3"
  }
 },
 "nbformat": 4,
 "nbformat_minor": 2
}
